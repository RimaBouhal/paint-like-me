{
 "cells": [
  {
   "cell_type": "markdown",
   "id": "assumed-general",
   "metadata": {},
   "source": [
    "# Paint Like Me"
   ]
  },
  {
   "cell_type": "markdown",
   "id": "dominant-acrylic",
   "metadata": {},
   "source": [
    "## An implementation of Painterly Rendering with Curved Brush Strokes of Multiple Sizes (Hertzmann)"
   ]
  },
  {
   "cell_type": "code",
   "execution_count": null,
   "id": "authorized-mount",
   "metadata": {},
   "outputs": [
    {
     "ename": "",
     "evalue": "",
     "output_type": "error",
     "traceback": [
      "\u001b[1;31mRunning cells with '.venv (Python 3.8.0)' requires the ipykernel package.\n",
      "\u001b[1;31mRun the following command to install 'ipykernel' into the Python environment. \n",
      "\u001b[1;31mCommand: 'c:/Users/QDTV36/paint-like-me/.venv/Scripts/python.exe -m pip install ipykernel -U --force-reinstall'"
     ]
    }
   ],
   "source": [
    "import os\n",
    "import numpy as np\n",
    "import cv2\n",
    "import cairo\n",
    "\n",
    "from matplotlib.colors import LogNorm\n",
    "from scipy import signal, ndimage\n",
    "import random"
   ]
  },
  {
   "cell_type": "code",
   "execution_count": null,
   "id": "loving-baseline",
   "metadata": {},
   "outputs": [],
   "source": [
    "%matplotlib inline  \n",
    "import matplotlib.pyplot as plt"
   ]
  },
  {
   "cell_type": "code",
   "execution_count": null,
   "id": "chinese-crown",
   "metadata": {},
   "outputs": [],
   "source": [
    "datadir = \"images/\" "
   ]
  },
  {
   "cell_type": "markdown",
   "id": "angry-marketing",
   "metadata": {},
   "source": [
    "## Creating Gaussian Filter"
   ]
  },
  {
   "cell_type": "markdown",
   "id": "foreign-clear",
   "metadata": {},
   "source": [
    "#### This is from my Hybrid Images MP, here i'm using it to create different layers in my painting (for detailing)"
   ]
  },
  {
   "cell_type": "code",
   "execution_count": null,
   "id": "imported-uncertainty",
   "metadata": {},
   "outputs": [],
   "source": [
    "# 2D GAUSSIAN FILTER\n",
    "def createGaussianFilter(image, sigma):\n",
    "    ksize = int(np.ceil(sigma)+1)\n",
    "    fil = cv2.getGaussianKernel(ksize, sigma) # 1D kernel\n",
    "    fil = fil*np.transpose(fil) # 2D kernel by outer product\n",
    "    return cv2.filter2D(image, -1, fil)"
   ]
  },
  {
   "cell_type": "markdown",
   "id": "unable-contemporary",
   "metadata": {},
   "source": [
    "## Painting"
   ]
  },
  {
   "cell_type": "code",
   "execution_count": null,
   "id": "opposite-judge",
   "metadata": {},
   "outputs": [],
   "source": [
    "def paint_layer(canvas, refference_img, radius, grid_size, T, min_stroke_length, max_stroke_length):\n",
    "  #  a new set of strokes, initially empty (S)\n",
    "  S = []\n",
    "  \n",
    "  # create a pointwise difference image (D)\n",
    "  D = np.sqrt(np.sum((canvas - refference_img)**2, axis=-1))\n",
    "  \n",
    "  canvas_height, canvas_width, _ = canvas.shape\n",
    "  grid = int(grid_size * radius)  # stepsize grid\n",
    "  \n",
    "  # gradient is computed from the Sobelfiltered luminance\n",
    "  luminance = 0.30*refference_img[:,:,0] + 0.59*refference_img[:,:,1] + 0.11*refference_img[:,:,2]\n",
    "  \n",
    "  gradient_x = ndimage.sobel(luminance,1)\n",
    "  gradient_y = ndimage.sobel(luminance,0)\n",
    "  \n",
    "  for x in range(0, canvas_width, grid):\n",
    "    for y in range(0, canvas_height, grid):\n",
    "      \n",
    "      M = D[y:y+grid, x:x+grid]\n",
    "      area_err = M.sum()/(grid**2)\n",
    "      \n",
    "      if area_err > T :\n",
    "        # Find the largest error point\n",
    "        indices = np.argmax(M)\n",
    "        y1, x1 = np.unravel_index(indices, M.shape)\n",
    "        \n",
    "        # make brush stroke\n",
    "        s = make_spline_stroke(radius, x+x1, y+y1, refference_img, canvas, min_stroke_length, max_stroke_length, gradient_x, gradient_y)\n",
    "        S.append(s)\n",
    "\n",
    "  # paint all strokes in S on the canvas (randomorder)\n",
    "  random.shuffle(S)\n",
    "  \n",
    "  cairo_canvas = cairo.ImageSurface(cairo.FORMAT_RGB24, canvas_width, canvas_height)\n",
    "  canvas_context = cairo.Context(cairo_canvas)\n",
    "  canvas_context.set_line_cap(cairo.LINE_CAP_ROUND)\n",
    "  \n",
    "  # set the line width\n",
    "  line_width = canvas_context.device_to_user_distance(2 * radius, 2 * radius) \n",
    "  canvas_context.set_line_width(np.min(line_width))\n",
    "  \n",
    "  for s in S:\n",
    "    paint_strokes(s, refference_img, canvas_context)\n",
    "\n",
    "  return cairo_canvas"
   ]
  },
  {
   "cell_type": "code",
   "execution_count": null,
   "id": "centered-efficiency",
   "metadata": {},
   "outputs": [],
   "source": [
    "def paint_strokes(s, refference_img, canvas_context):\n",
    "  stroke_color = (refference_img[s[0][0],s[0][1]])\n",
    "  sy, sx = s[0]\n",
    "  \n",
    "  R,G,B = tuple(stroke_color)\n",
    "  canvas_context.set_source_rgb(R, G, B)\n",
    "\n",
    "  # start stroke path\n",
    "  canvas_context.move_to(sx, sy)\n",
    "  \n",
    "  # draw lines\n",
    "  for sy,sx in s:\n",
    "    canvas_context.line_to(sx, sy)\n",
    "    canvas_context.move_to(sx, sy)\n",
    "    \n",
    "  # end\n",
    "  canvas_context.close_path()\n",
    "  canvas_context.stroke()"
   ]
  },
  {
   "cell_type": "code",
   "execution_count": null,
   "id": "vulnerable-lodge",
   "metadata": {},
   "outputs": [],
   "source": [
    "def make_spline_stroke(radius, x0, y0, refference_img, canvas, min_stroke_length, max_stroke_length, gradient_x, gradient_y):\n",
    "  # K = a new stroke with radius R and color strokeColor\n",
    "  K = [(y0, x0)]\n",
    "  x,y = x0, y0\n",
    "  lastDx,lastDy = (0,0)\n",
    "  \n",
    "  # pointilism has a stroke len of 0, so add 1\n",
    "  max_stroke_length += 1\n",
    "  \n",
    "  for i in range(1, max_stroke_length):\n",
    "    canvas_color_diff = np.linalg.norm(refference_img[y,x] - canvas[y,x])\n",
    "    stroke_color_diff = np.linalg.norm(refference_img[y,x] - refference_img[y0, x0])\n",
    "    \n",
    "    if (i > min_stroke_length and (canvas_color_diff < stroke_color_diff)):\n",
    "      return K\n",
    "    \n",
    "    # detect vanishing gradient\n",
    "    gx = gradient_x[y,x]\n",
    "    gy = gradient_y[y,x]\n",
    "    \n",
    "    if (gx**2 + gy**2 == 0):\n",
    "      return K\n",
    "\n",
    "    # compute a normal direction\n",
    "    dx,dy = (-gy, gx)\n",
    "\n",
    "    # if necessary, reverse direction\n",
    "    if (lastDx * dx + lastDy * dy < 0):\n",
    "      dx,dy = -dx, -dy\n",
    "\n",
    "    # filter the stroke direction\n",
    "    curvature_filter = 1\n",
    "    dx, dy = curvature_filter*(dx,dy) + (1-curvature_filter)*(lastDx,lastDy)\n",
    "    dx, dy = (dx, dy) / np.sqrt(dx**2 + dy**2)\n",
    "\n",
    "    x, y =  (x + radius*dx, y + radius*dy)\n",
    "    \n",
    "    # round up x, y\n",
    "    x = int(round(x))\n",
    "    y = int(round(y))\n",
    "    \n",
    "    if x >= refference_img.shape[1] or y >= refference_img.shape[0]:\n",
    "      return K\n",
    "    \n",
    "    lastDx,lastDy = (dx,dy)\n",
    "\n",
    "    # add the point (x,y) to K\n",
    "    K.append((y,x))\n",
    "    \n",
    "  return K"
   ]
  },
  {
   "cell_type": "code",
   "execution_count": null,
   "id": "designed-wages",
   "metadata": {},
   "outputs": [],
   "source": [
    "def paint(source_img, brush_sizes, blur_filter, grid_size, approx_threshold, min_stroke_length, max_stroke_length):\n",
    "  im_height, im_width, _ = source_img.shape\n",
    "  \n",
    "  blur_img = np.zeros((len(brush_sizes), im_height, im_width, 3))\n",
    "\n",
    "  for i, radius in enumerate(brush_sizes):\n",
    "    blur = createGaussianFilter(source_img, blur_filter*radius)\n",
    "    reference_image = source_img * blur\n",
    "    blur_img[i] = reference_image\n",
    "\n",
    "  # paint a layer\n",
    "  layer_img = np.zeros((len(brush_sizes), im_height, im_width, 3), dtype=np.uint8)\n",
    "\n",
    "  for i, radius in enumerate(brush_sizes):\n",
    "    reference_image = blur_img[i]\n",
    "\n",
    "    cairo_canvas = paint_layer(source_img, reference_image, radius, grid_size, approx_threshold, min_stroke_length, max_stroke_length)\n",
    "    cairo_canvas.write_to_png(\"out.png\")\n",
    "\n",
    "    layer_img[i] = np.ndarray(shape=(im_height, im_width, 4),\n",
    "                       dtype=np.uint8,\n",
    "                       buffer=cairo_canvas.get_data())[:, :, 0:3]\n",
    "    \n",
    "  return layer_img"
   ]
  },
  {
   "cell_type": "markdown",
   "id": "small-royal",
   "metadata": {},
   "source": [
    "## Pointillism"
   ]
  },
  {
   "cell_type": "markdown",
   "id": "chubby-survival",
   "metadata": {},
   "source": [
    "#### The art of putting many, many dots together to create shapes"
   ]
  },
  {
   "cell_type": "code",
   "execution_count": null,
   "id": "major-curve",
   "metadata": {},
   "outputs": [],
   "source": [
    "im1_file = datadir + 'flower.jpg'\n",
    "im1 = np.float32(cv2.imread(im1_file, cv2.IMREAD_GRAYSCALE) / 255.0)\n",
    "\n",
    "# for full color RGB\n",
    "im1_color = np.float32(cv2.imread(im1_file) / 255.0)\n",
    "im1_rgb = cv2.cvtColor(im1_color, cv2.COLOR_BGR2RGB)\n",
    "\n",
    "plt.imshow(im1_rgb)"
   ]
  },
  {
   "cell_type": "code",
   "execution_count": null,
   "id": "generous-receiver",
   "metadata": {},
   "outputs": [],
   "source": [
    "source_img = im1_rgb\n",
    "\n",
    "# ==== Brush Properties ====\n",
    "brush_sizes = [4, 2]\n",
    "blur_filter = 20\n",
    "grid_size = 0.5\n",
    "approx_threshold = 0.05\n",
    "min_stroke_length = 0\n",
    "max_stroke_length = 0"
   ]
  },
  {
   "cell_type": "code",
   "execution_count": null,
   "id": "recreational-cherry",
   "metadata": {},
   "outputs": [],
   "source": [
    "layer_img = paint(source_img, brush_sizes, blur_filter, grid_size, approx_threshold, min_stroke_length, max_stroke_length)"
   ]
  },
  {
   "cell_type": "code",
   "execution_count": null,
   "id": "surgical-dairy",
   "metadata": {
    "scrolled": false
   },
   "outputs": [],
   "source": [
    "# display painted layers\n",
    "plt.figure()\n",
    "plt.imshow(cv2.cvtColor(layer_img[0], cv2.COLOR_BGR2RGB) / 255)\n",
    "\n",
    "plt.figure()\n",
    "plt.imshow(cv2.cvtColor(layer_img[1], cv2.COLOR_BGR2RGB) / 255)"
   ]
  },
  {
   "cell_type": "markdown",
   "id": "considerable-anime",
   "metadata": {},
   "source": [
    "## Impressionism"
   ]
  },
  {
   "cell_type": "markdown",
   "id": "pleasant-panic",
   "metadata": {},
   "source": [
    "####  An art form from the 19th century and is well known for very defined, small brush strokes"
   ]
  },
  {
   "cell_type": "code",
   "execution_count": null,
   "id": "sitting-protein",
   "metadata": {},
   "outputs": [],
   "source": [
    "im2_file = datadir + 'haystack.jpg'\n",
    "im2 = np.float32(cv2.imread(im2_file, cv2.IMREAD_GRAYSCALE) / 255.0)\n",
    "\n",
    "# for full color RGB\n",
    "im2_color = np.float32(cv2.imread(im2_file) / 255.0)\n",
    "im2_rgb = cv2.cvtColor(im2_color, cv2.COLOR_BGR2RGB)\n",
    "\n",
    "im2_height, im2_width = im2.shape\n",
    "plt.imshow(im2_rgb)"
   ]
  },
  {
   "cell_type": "code",
   "execution_count": null,
   "id": "german-hollow",
   "metadata": {},
   "outputs": [],
   "source": [
    "source_img = im2_rgb\n",
    "im_height = im2_height\n",
    "im_width  = im2_width\n",
    "\n",
    "# ==== Brush Properties ====\n",
    "brush_sizes = [8, 4, 2]\n",
    "blur_filter = 10\n",
    "grid_size = 1\n",
    "approx_threshold = 0.05\n",
    "min_stroke_length = 2\n",
    "max_stroke_length = 16"
   ]
  },
  {
   "cell_type": "code",
   "execution_count": null,
   "id": "anonymous-sugar",
   "metadata": {},
   "outputs": [],
   "source": [
    "layer_img = paint(source_img, brush_sizes, blur_filter, grid_size, approx_threshold, min_stroke_length, max_stroke_length)"
   ]
  },
  {
   "cell_type": "code",
   "execution_count": null,
   "id": "accepting-actress",
   "metadata": {},
   "outputs": [],
   "source": [
    "# display painted layers\n",
    "plt.figure()\n",
    "plt.imshow(cv2.cvtColor(layer_img[0], cv2.COLOR_BGR2RGB) / 255)\n",
    "\n",
    "plt.figure()\n",
    "plt.imshow(cv2.cvtColor(layer_img[1], cv2.COLOR_BGR2RGB) / 255)\n",
    "\n",
    "plt.figure()\n",
    "plt.imshow(cv2.cvtColor(layer_img[2], cv2.COLOR_BGR2RGB) / 255)"
   ]
  },
  {
   "cell_type": "markdown",
   "id": "typical-travel",
   "metadata": {},
   "source": [
    "## Expressionism"
   ]
  },
  {
   "cell_type": "markdown",
   "id": "comic-digest",
   "metadata": {},
   "source": [
    "### more modern art form known for ‘expressive’ brush strokes"
   ]
  },
  {
   "cell_type": "code",
   "execution_count": null,
   "id": "coral-invalid",
   "metadata": {},
   "outputs": [],
   "source": [
    "im3_file = datadir + 'Amsterdam.jpg'\n",
    "im3 = np.float32(cv2.imread(im3_file, cv2.IMREAD_GRAYSCALE) / 255.0)\n",
    "\n",
    "# for full color RGB\n",
    "im3_color = np.float32(cv2.imread(im3_file) / 255.0)\n",
    "im3_rgb = cv2.cvtColor(im3_color, cv2.COLOR_BGR2RGB)\n",
    "\n",
    "im3_height, im3_width = im3.shape\n",
    "plt.imshow(im3_rgb)"
   ]
  },
  {
   "cell_type": "code",
   "execution_count": null,
   "id": "affecting-damages",
   "metadata": {},
   "outputs": [],
   "source": [
    "source_img = im3_rgb\n",
    "im_height = im3_height\n",
    "im_width  = im3_width\n",
    "\n",
    "# ==== Brush Properties ====\n",
    "brush_sizes = [8, 4, 2]\n",
    "blur_filter = 5\n",
    "grid_size = 1\n",
    "approx_threshold = 0.05\n",
    "min_stroke_length = 10\n",
    "max_stroke_length = 16"
   ]
  },
  {
   "cell_type": "code",
   "execution_count": null,
   "id": "danish-patrol",
   "metadata": {},
   "outputs": [
    {
     "ename": "",
     "evalue": "",
     "output_type": "error",
     "traceback": [
      "\u001b[1;31mRunning cells with '.venv (Python 3.8.0)' requires the ipykernel package.\n",
      "\u001b[1;31mRun the following command to install 'ipykernel' into the Python environment. \n",
      "\u001b[1;31mCommand: 'c:/Users/QDTV36/paint-like-me/.venv/Scripts/python.exe -m pip install ipykernel -U --force-reinstall'"
     ]
    }
   ],
   "source": [
    "layer_img = paint(source_img, brush_sizes, blur_filter, grid_size, approx_threshold, min_stroke_length, max_stroke_length)"
   ]
  },
  {
   "cell_type": "code",
   "execution_count": null,
   "id": "compound-covering",
   "metadata": {},
   "outputs": [],
   "source": [
    "# display painted layers\n",
    "plt.figure()\n",
    "plt.imshow(cv2.cvtColor(layer_img[0], cv2.COLOR_BGR2RGB) / 255)\n",
    "\n",
    "plt.figure()\n",
    "plt.imshow(cv2.cvtColor(layer_img[1], cv2.COLOR_BGR2RGB) / 255)\n",
    "\n",
    "plt.figure()\n",
    "plt.imshow(cv2.cvtColor(layer_img[2], cv2.COLOR_BGR2RGB) / 255)"
   ]
  },
  {
   "cell_type": "markdown",
   "id": "loose-finish",
   "metadata": {},
   "source": [
    "## Finger Painting"
   ]
  },
  {
   "cell_type": "markdown",
   "id": "enclosed-punch",
   "metadata": {},
   "source": [
    "#### Attempting to recreate something 4-year old me would have made"
   ]
  },
  {
   "cell_type": "code",
   "execution_count": null,
   "id": "german-lincoln",
   "metadata": {},
   "outputs": [],
   "source": [
    "im4_file = datadir + 'pollock.jpg'\n",
    "im4 = np.float32(cv2.imread(im4_file, cv2.IMREAD_GRAYSCALE) / 255.0)\n",
    "\n",
    "# for full color RGB\n",
    "im4_color = np.float32(cv2.imread(im4_file) / 255.0)\n",
    "im4_rgb = cv2.cvtColor(im4_color, cv2.COLOR_BGR2RGB)\n",
    "\n",
    "im4_height, im4_width = im4.shape\n",
    "plt.imshow(im4_rgb)"
   ]
  },
  {
   "cell_type": "code",
   "execution_count": null,
   "id": "spread-drill",
   "metadata": {},
   "outputs": [],
   "source": [
    "source_img = im4_rgb\n",
    "im_height = im4_height\n",
    "im_width  = im4_width\n",
    "\n",
    "# ==== Brush Properties ====\n",
    "brush_sizes = [10, 8]\n",
    "blur_filter = 2\n",
    "grid_size = .75\n",
    "approx_threshold = 0.01\n",
    "min_stroke_length = 4\n",
    "max_stroke_length = 10"
   ]
  },
  {
   "cell_type": "code",
   "execution_count": null,
   "id": "raising-cleaner",
   "metadata": {},
   "outputs": [],
   "source": [
    "layer_img = paint(source_img, brush_sizes, blur_filter, grid_size, approx_threshold, min_stroke_length, max_stroke_length)"
   ]
  },
  {
   "cell_type": "code",
   "execution_count": null,
   "id": "nominated-atlantic",
   "metadata": {},
   "outputs": [],
   "source": [
    "# display painted layers\n",
    "plt.figure()\n",
    "plt.imshow(cv2.cvtColor(layer_img[0], cv2.COLOR_BGR2RGB) / 255)\n",
    "\n",
    "plt.figure()\n",
    "plt.imshow(cv2.cvtColor(layer_img[1], cv2.COLOR_BGR2RGB) / 255)"
   ]
  }
 ],
 "metadata": {
  "kernelspec": {
   "display_name": ".venv",
   "language": "python",
   "name": "python3"
  },
  "language_info": {
   "codemirror_mode": {
    "name": "ipython",
    "version": 3
   },
   "file_extension": ".py",
   "mimetype": "text/x-python",
   "name": "python",
   "nbconvert_exporter": "python",
   "pygments_lexer": "ipython3",
   "version": "3.8.0"
  }
 },
 "nbformat": 4,
 "nbformat_minor": 5
}
